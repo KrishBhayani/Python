{
 "cells": [
  {
   "cell_type": "markdown",
   "metadata": {},
   "source": [
    "\n",
    "<a href='https://www.darshan.ac.in/'> <img src='https://www.darshan.ac.in/Content/media/DU_Logo.svg' width=\"250\" height=\"300\"/></a>\n",
    "<pre>\n",
    "<center><b><h1>Python Programming - 2101CS405</b></center>\n",
    "<center><b><h1>Lab - 4</b></center>    \n",
    "<pre>"
   ]
  },
  {
   "cell_type": "markdown",
   "metadata": {},
   "source": [
    "# String"
   ]
  },
  {
   "cell_type": "markdown",
   "metadata": {},
   "source": [
    "### 01) WAP to check given string is palindrome or not."
   ]
  },
  {
   "cell_type": "code",
   "execution_count": 10,
   "metadata": {},
   "outputs": [
    {
     "name": "stdout",
     "output_type": "stream",
     "text": [
      "Enter String : ababa\n",
      "Given sting is palindrome\n"
     ]
    }
   ],
   "source": [
    "x = input(\"Enter String : \")\n",
    "a = x[::-1]\n",
    "if(a==x):\n",
    "    print(\"Given sting is palindrome\")\n",
    "else:\n",
    "    print(\"Given strind is not palindrome\")"
   ]
  },
  {
   "cell_type": "markdown",
   "metadata": {},
   "source": [
    "### 02) WAP to reverse the words in given string."
   ]
  },
  {
   "cell_type": "code",
   "execution_count": 17,
   "metadata": {},
   "outputs": [
    {
     "name": "stdout",
     "output_type": "stream",
     "text": [
      "Enter String : Krish Bhayani\n",
      "Bhayani Krish\n"
     ]
    }
   ],
   "source": [
    "x = input(\"Enter String : \")\n",
    "a = \" \".join(x.split(\" \")[::-1])\n",
    "print(a)"
   ]
  },
  {
   "cell_type": "markdown",
   "metadata": {},
   "source": [
    "### 03) WAP to remove ith character from given string"
   ]
  },
  {
   "cell_type": "code",
   "execution_count": 36,
   "metadata": {},
   "outputs": [
    {
     "name": "stdout",
     "output_type": "stream",
     "text": [
      "Enter String : Krish Bhayani\n",
      "Enter remove character : 5\n",
      "KrishBhayani\n"
     ]
    }
   ],
   "source": [
    "x = input(\"Enter String : \")\n",
    "a = int(input(\"Enter remove character : \"))\n",
    "temp1 = x[:a]\n",
    "temp2 = x[a+1:]\n",
    "print(temp1+temp2)"
   ]
  },
  {
   "cell_type": "markdown",
   "metadata": {},
   "source": [
    "### 04) WAP to find length of String without using len function."
   ]
  },
  {
   "cell_type": "code",
   "execution_count": 22,
   "metadata": {},
   "outputs": [
    {
     "name": "stdout",
     "output_type": "stream",
     "text": [
      "Enter String :Darshan University\n",
      "18\n"
     ]
    }
   ],
   "source": [
    "x = input(\"Enter String :\")\n",
    "count = 0\n",
    "for i in x:\n",
    "    count+= 1\n",
    "print(count)"
   ]
  },
  {
   "cell_type": "markdown",
   "metadata": {},
   "source": [
    "### 05) WAP to print even length word in string."
   ]
  },
  {
   "cell_type": "code",
   "execution_count": 23,
   "metadata": {},
   "outputs": [
    {
     "name": "stdout",
     "output_type": "stream",
     "text": [
      "Enter String :Darshan University\n",
      "DrhnUiest\n"
     ]
    }
   ],
   "source": [
    "x = input(\"Enter String :\")\n",
    "a = x[::2]\n",
    "print(a)"
   ]
  },
  {
   "cell_type": "markdown",
   "metadata": {},
   "source": [
    "### 06) WAP to count numbers of vowels in given string."
   ]
  },
  {
   "cell_type": "code",
   "execution_count": 31,
   "metadata": {},
   "outputs": [
    {
     "name": "stdout",
     "output_type": "stream",
     "text": [
      "Enter String : Apple\n",
      "2\n"
     ]
    }
   ],
   "source": [
    "x = input(\"Enter String : \")\n",
    "count = 0\n",
    "for i in x.lower():\n",
    "    if (i=='a' or i=='e' or i=='i' or i=='o' or i=='u'):\n",
    "        count+= 1\n",
    "    \n",
    "print(count)\n",
    "        "
   ]
  },
  {
   "cell_type": "markdown",
   "metadata": {},
   "source": [
    "### 07) WAP to convert given array to string."
   ]
  },
  {
   "cell_type": "code",
   "execution_count": 44,
   "metadata": {},
   "outputs": [
    {
     "name": "stdout",
     "output_type": "stream",
     "text": [
      "Krish Bhayani\n"
     ]
    }
   ],
   "source": [
    "x = [\"Krish\",\"Bhayani\"]\n",
    "a = \" \".join(x[::])\n",
    "print(a)"
   ]
  },
  {
   "cell_type": "markdown",
   "metadata": {},
   "source": [
    "### 01) WAP to find out duplicate characters in given string."
   ]
  },
  {
   "cell_type": "code",
   "execution_count": 10,
   "metadata": {},
   "outputs": [
    {
     "name": "stdout",
     "output_type": "stream",
     "text": [
      "Enter a string : Krish Bhayani\n",
      "Repeated characters :  i,h,a,"
     ]
    }
   ],
   "source": [
    "str = input(\"Enter a string : \")\n",
    "temp,count=\"\",0\n",
    "\n",
    "print(\"Repeated characters : \",end=\" \")\n",
    "for i in str:\n",
    "    if(temp.find(i)==-1):\n",
    "        for j in str[str.index(i):]:\n",
    "            if(i==j):\n",
    "                temp+=i\n",
    "                count+=1   \n",
    "    if count>1:\n",
    "        print(i,end=\",\")\n",
    "    count=0\n"
   ]
  },
  {
   "cell_type": "markdown",
   "metadata": {},
   "source": [
    "### 02) WAP to capitalize the first and last character of each word in a string."
   ]
  },
  {
   "cell_type": "code",
   "execution_count": 4,
   "metadata": {},
   "outputs": [
    {
     "name": "stdout",
     "output_type": "stream",
     "text": [
      "Enter a string : krish bhayani\n",
      "KrisH BhayanI "
     ]
    }
   ],
   "source": [
    "str = input(\"Enter a string : \")\n",
    "list = str.split(\" \")\n",
    "for i in list:\n",
    "    print(i[0:1].title()+i[1:len(i)-1]+i[len(i)-1].title(),end=\" \")"
   ]
  },
  {
   "cell_type": "markdown",
   "metadata": {},
   "source": [
    "### 03) WAP to find Maximum frequency character in String."
   ]
  },
  {
   "cell_type": "code",
   "execution_count": 7,
   "metadata": {},
   "outputs": [
    {
     "name": "stdout",
     "output_type": "stream",
     "text": [
      "Enter a string : aaabbc\n",
      "a\n"
     ]
    }
   ],
   "source": [
    "x = input(\"Enter a string : \")\n",
    "f = {}\n",
    "for i in x:\n",
    "    if i in f:\n",
    "        f[i]+=1\n",
    "    else:\n",
    "        f[i]=1\n",
    "print(max(f,key = f.get))"
   ]
  },
  {
   "cell_type": "markdown",
   "metadata": {},
   "source": [
    "### 04) WAP to find Minimum frequency character in String."
   ]
  },
  {
   "cell_type": "code",
   "execution_count": 2,
   "metadata": {},
   "outputs": [
    {
     "name": "stdout",
     "output_type": "stream",
     "text": [
      "Enter a string : aaabbc\n",
      "c\n"
     ]
    }
   ],
   "source": [
    "str = input(\"Enter a string : \")\n",
    "f = {}\n",
    "for i in str:\n",
    "    if i in f:\n",
    "        f[i]+=1\n",
    "    else:\n",
    "        f[i]=1\n",
    "print(min(f,key = f.get))"
   ]
  },
  {
   "cell_type": "markdown",
   "metadata": {},
   "source": [
    "### 05) WAP to check if a given string is binary string or not"
   ]
  },
  {
   "cell_type": "code",
   "execution_count": 47,
   "metadata": {},
   "outputs": [
    {
     "name": "stdout",
     "output_type": "stream",
     "text": [
      "Enter String : 1001\n",
      "Binary\n"
     ]
    }
   ],
   "source": [
    "x = input(\"Enter String : \")\n",
    "\n",
    "for i in x:\n",
    "    if not(i=='0' or i=='1'):\n",
    "        print(\"Not Binary\")\n",
    "        break;\n",
    "else:\n",
    "    print(\"Binary\")"
   ]
  },
  {
   "cell_type": "code",
   "execution_count": null,
   "metadata": {},
   "outputs": [],
   "source": []
  },
  {
   "cell_type": "code",
   "execution_count": null,
   "metadata": {},
   "outputs": [],
   "source": []
  }
 ],
 "metadata": {
  "kernelspec": {
   "display_name": "Python 3 (ipykernel)",
   "language": "python",
   "name": "python3"
  },
  "language_info": {
   "codemirror_mode": {
    "name": "ipython",
    "version": 3
   },
   "file_extension": ".py",
   "mimetype": "text/x-python",
   "name": "python",
   "nbconvert_exporter": "python",
   "pygments_lexer": "ipython3",
   "version": "3.9.13"
  }
 },
 "nbformat": 4,
 "nbformat_minor": 4
}
