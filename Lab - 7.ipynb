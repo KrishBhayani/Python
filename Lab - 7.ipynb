{
 "cells": [
  {
   "cell_type": "markdown",
   "metadata": {},
   "source": [
    "<a href='https://www.darshan.ac.in/'> <img src='https://www.darshan.ac.in/Content/media/DU_Logo.svg' width=\"250\" height=\"300\"/></a>\n",
    "<pre>\n",
    "<center><b><h1>Python Programming - 2101CS405</b></center>\n",
    "<center><b><h1>Lab - 7</b></center>    \n",
    "<pre>"
   ]
  },
  {
   "cell_type": "markdown",
   "metadata": {},
   "source": [
    "# Functions"
   ]
  },
  {
   "cell_type": "markdown",
   "metadata": {},
   "source": [
    "### 01) WAP to count simple interest using function."
   ]
  },
  {
   "cell_type": "code",
   "execution_count": 5,
   "metadata": {},
   "outputs": [
    {
     "name": "stdout",
     "output_type": "stream",
     "text": [
      "Enrter P =10000\n",
      "Enrter R =1\n",
      "Enrter N =5\n",
      "Simple interest : 500.0\n"
     ]
    }
   ],
   "source": [
    "def SI(p,r,n):\n",
    "    print(f\"Simple interest : {p*r*n/100}\")\n",
    "p = int(input(\"Enrter P =\"))\n",
    "r = int(input(\"Enrter R =\"))\n",
    "n = int(input(\"Enrter N =\"))\n",
    "\n",
    "SI(p,r,n)"
   ]
  },
  {
   "cell_type": "markdown",
   "metadata": {},
   "source": [
    "### 02) WAP that defines a function to add first n numbers."
   ]
  },
  {
   "cell_type": "code",
   "execution_count": 15,
   "metadata": {},
   "outputs": [
    {
     "name": "stdout",
     "output_type": "stream",
     "text": [
      "Enter n : 10\n",
      "Addition of first 10 numbers is : 55\n"
     ]
    }
   ],
   "source": [
    "def SUM(n):\n",
    "    sum=0\n",
    "    for i in n:\n",
    "        sum+=i\n",
    "    return sum\n",
    "    \n",
    "n = int(input(\"Enter n : \"))\n",
    "li=[]\n",
    "for i in range(1,n+1):\n",
    "    li.append(i)\n",
    "print(f\"Addition of first {n} numbers is : {SUM(li)}\")"
   ]
  },
  {
   "cell_type": "markdown",
   "metadata": {},
   "source": [
    "### 03) WAP to find maximum number from given two numbers using function."
   ]
  },
  {
   "cell_type": "code",
   "execution_count": 18,
   "metadata": {},
   "outputs": [
    {
     "name": "stdout",
     "output_type": "stream",
     "text": [
      "Enter a : 4\n",
      "Enter b : 6\n",
      "Maximum number from 4 & 6 is : 6\n"
     ]
    }
   ],
   "source": [
    "def max1(a,b):\n",
    "    print(f\"Maximum number from {a} & {b} is : {a if a>b else b}\")\n",
    "a = int(input(\"Enter a : \"))\n",
    "b = int(input(\"Enter b : \"))\n",
    "max1(a,b)"
   ]
  },
  {
   "cell_type": "markdown",
   "metadata": {},
   "source": [
    "### 04) WAP that defines a function which returns 1 if the number is prime otherwise return 0."
   ]
  },
  {
   "cell_type": "code",
   "execution_count": 28,
   "metadata": {
    "scrolled": true
   },
   "outputs": [
    {
     "name": "stdout",
     "output_type": "stream",
     "text": [
      "Enter n : 13\n"
     ]
    },
    {
     "data": {
      "text/plain": [
       "1"
      ]
     },
     "execution_count": 28,
     "metadata": {},
     "output_type": "execute_result"
    }
   ],
   "source": [
    "def prime(n):\n",
    "    for i in (2,n/2):\n",
    "        if n%i==0:\n",
    "            return 0\n",
    "        return 1\n",
    "n = int(input(\"Enter n : \"))\n",
    "prime(n)"
   ]
  },
  {
   "cell_type": "markdown",
   "metadata": {},
   "source": [
    "### 05) Write a function called primes that takes an integer value as an argument and returns a list of all prime numbers up to that number."
   ]
  },
  {
   "cell_type": "code",
   "execution_count": 52,
   "metadata": {},
   "outputs": [
    {
     "name": "stdout",
     "output_type": "stream",
     "text": [
      "Enter n : 13\n",
      "Prime number up to 13 are : 2 3 5 7 11 13 "
     ]
    }
   ],
   "source": [
    "def primes(n):\n",
    "    for i in range(2,n+1):\n",
    "        for j in range(2,i):\n",
    "            if(i%j==0):\n",
    "                break\n",
    "        else: \n",
    "            print(i,end = \" \")\n",
    "n = int(input(\"Enter n : \"))\n",
    "print(f\"Prime number up to {n} are : \",end=\"\")\n",
    "primes(n)\n",
    "        "
   ]
  },
  {
   "cell_type": "markdown",
   "metadata": {},
   "source": [
    "### 06) WAP to generate Fibonacci series of N given number using function name fibbo. (e.g. 0 1 1 2 3 5 8...)"
   ]
  },
  {
   "cell_type": "code",
   "execution_count": 56,
   "metadata": {},
   "outputs": [
    {
     "name": "stdout",
     "output_type": "stream",
     "text": [
      "Enter n : 10\n",
      "0 1 1 2 3 5 8 13 21 34 "
     ]
    }
   ],
   "source": [
    "def fibbo(n):\n",
    "    if(n==0):\n",
    "        return 0\n",
    "    elif(n==1):\n",
    "        return 1\n",
    "    else:\n",
    "        return fibbo(n-1)+fibbo(n-2)\n",
    "n = int(input(\"Enter n : \"))\n",
    "for i in range (n):\n",
    "    print(f\"{fibbo(i)}\",end=\" \")"
   ]
  },
  {
   "cell_type": "markdown",
   "metadata": {},
   "source": [
    "### 07) WAP to find the factorial of a given number using recursion."
   ]
  },
  {
   "cell_type": "code",
   "execution_count": 34,
   "metadata": {},
   "outputs": [
    {
     "name": "stdout",
     "output_type": "stream",
     "text": [
      "Enter n : 5\n",
      "Fibonacci of 5 is 120\n"
     ]
    }
   ],
   "source": [
    "def factorial(n):\n",
    "    if n==0 or n==1:\n",
    "        return 1\n",
    "    return n*factorial(n-1)\n",
    "n = int(input(\"Enter n : \"))\n",
    "print(f\"Fibonacci of {n} is {factorial(n)}\")"
   ]
  },
  {
   "cell_type": "markdown",
   "metadata": {},
   "source": [
    "### 08) WAP to implement simple calculator using lamda function."
   ]
  },
  {
   "cell_type": "code",
   "execution_count": 49,
   "metadata": {},
   "outputs": [
    {
     "name": "stdout",
     "output_type": "stream",
     "text": [
      "1 for sum, 2 for substraction, 3 for multiplication, 4 for division\n",
      "Enter operation number : 4\n",
      "Enter a : 7\n",
      "Enter b : 0\n",
      "Invalid\n"
     ]
    }
   ],
   "source": [
    "print(\"1 for sum, 2 for substraction, 3 for multiplication, 4 for division\")\n",
    "op = input(\"Enter operation number : \")\n",
    "a = int(input(\"Enter a : \"))\n",
    "b = int(input(\"Enter b : \"))\n",
    "ans = lambda a,b,op : (a+b if op==\"1\" else a-b if op==\"2\" else a*b if op==\"3\" else a/b if op==\"4\" and b!=0 else \"Invalid\")\n",
    "print(ans(a,b,op))"
   ]
  },
  {
   "cell_type": "markdown",
   "metadata": {},
   "source": [
    "### 09)Write a Python program that accepts a hyphen-separated sequence of words as input and prints the words in a hyphen-separated sequence after sorting them alphabetically\n",
    "Sample Items : green-red-yellow-black-white <br>\n",
    "Expected Result : black-green-red-white-yellow"
   ]
  },
  {
   "cell_type": "code",
   "execution_count": 1,
   "metadata": {},
   "outputs": [
    {
     "name": "stdout",
     "output_type": "stream",
     "text": [
      "Enter Hyphen Seperated String : green-red-yellow-black-white\n",
      "black-green-red-white-yellow\n"
     ]
    }
   ],
   "source": [
    "\n",
    "str1 = input(\"Enter Hyphen Seperated String : \")\n",
    "list1 = str1.split(\"-\")\n",
    "list1.sort()\n",
    "print(\"-\".join(list1))"
   ]
  },
  {
   "cell_type": "markdown",
   "metadata": {},
   "source": [
    "### 10) Write a python program to implement all function arguments type\n",
    "Positional arguments <Br>\n",
    "Default argument <Br>\n",
    "Keyword arguments (named arguments) <Br>\n",
    "Arbitrary arguments (variable-length arguments args and kwargs)"
   ]
  },
  {
   "cell_type": "code",
   "execution_count": 3,
   "metadata": {},
   "outputs": [
    {
     "name": "stdout",
     "output_type": "stream",
     "text": [
      "Enter Number : 40\n",
      "Enter Number : 50\n",
      "Positional arguments  90\n",
      "Enter Number : 30\n",
      "Default argument  40\n"
     ]
    }
   ],
   "source": [
    "a = int(input(\"Enter Number : \"))\n",
    "b = int(input(\"Enter Number : \"))\n",
    "positionalArguments = lambda a,b : a+b\n",
    "print(\"Positional arguments \",positionalArguments(a,b))\n",
    "\n",
    "a = int(input(\"Enter Number : \"))\n",
    "defaultArgument = lambda a,b=10 : a+b\n",
    "print(\"Default argument \",defaultArgument(a))"
   ]
  },
  {
   "cell_type": "code",
   "execution_count": 4,
   "metadata": {},
   "outputs": [
    {
     "name": "stdout",
     "output_type": "stream",
     "text": [
      "Enter Number : 40\n",
      "Enter Number : 50\n",
      "Keyword arguments (named arguments)  90\n",
      "Enter Number : 30\n",
      "Keyword arguments (named arguments)  45\n"
     ]
    }
   ],
   "source": [
    "\n",
    "a = int(input(\"Enter Number : \"))\n",
    "b = int(input(\"Enter Number : \"))\n",
    "def keywordArguments(a,b):\n",
    "    return a+b\n",
    "print(\"Keyword arguments (named arguments) \",keywordArguments(b=a,a=b))\n",
    "\n",
    "a = int(input(\"Enter Number : \"))\n",
    "def arbitraryArguments(a,*b):\n",
    "    sums = a\n",
    "    for i in b:\n",
    "        sums+=i\n",
    "    return sums\n",
    "print(\"Keyword arguments (named arguments) \",arbitraryArguments(a,5,10))"
   ]
  },
  {
   "cell_type": "markdown",
   "metadata": {},
   "source": [
    "### 01) WAP to calculate power of a number using recursion."
   ]
  },
  {
   "cell_type": "code",
   "execution_count": 6,
   "metadata": {},
   "outputs": [
    {
     "name": "stdout",
     "output_type": "stream",
     "text": [
      "Enter Base : 3\n",
      "Enter Power : 2\n"
     ]
    },
    {
     "data": {
      "text/plain": [
       "9"
      ]
     },
     "execution_count": 6,
     "metadata": {},
     "output_type": "execute_result"
    }
   ],
   "source": [
    "def powers(base,power):\n",
    "    if power==1:\n",
    "        return base\n",
    "    elif power==0:\n",
    "        return 1\n",
    "    else:\n",
    "        return base*powers(base,power-1)\n",
    "base = int(input(\"Enter Base : \"))\n",
    "power = int(input(\"Enter Power : \"))\n",
    "powers(base,power)"
   ]
  },
  {
   "cell_type": "markdown",
   "metadata": {},
   "source": [
    "### 02) WAP to count digits of a number using recursion."
   ]
  },
  {
   "cell_type": "code",
   "execution_count": 13,
   "metadata": {},
   "outputs": [
    {
     "name": "stdout",
     "output_type": "stream",
     "text": [
      "Enter Number : 1234567890\n",
      "10\n"
     ]
    }
   ],
   "source": [
    "def countDigits(n):\n",
    "    if n<10:\n",
    "        return 1\n",
    "    else:\n",
    "        return 1+countDigits(n//10)\n",
    "\n",
    "n = int(input(\"Enter Number : \"))\n",
    "ans = countDigits(n)\n",
    "print(ans)"
   ]
  },
  {
   "cell_type": "markdown",
   "metadata": {},
   "source": [
    "### 03) WAP to reverse an integer number using recursion."
   ]
  },
  {
   "cell_type": "code",
   "execution_count": 11,
   "metadata": {},
   "outputs": [
    {
     "name": "stdout",
     "output_type": "stream",
     "text": [
      "Enter Number : 123456789\n",
      "Reverse :  987654321\n"
     ]
    }
   ],
   "source": [
    "reverse_number = 0\n",
    "def reverseNumber(n):\n",
    "    global reverse_number\n",
    "    if(n>0):\n",
    "        reminder = n%10\n",
    "        reverse_number = reverse_number*10 + reminder\n",
    "        reverseNumber(n//10)\n",
    "    return reverse_number\n",
    "\n",
    "\n",
    "n = int(input(\"Enter Number : \"))\n",
    "reverse_number = reverseNumber(n)\n",
    "print(\"Reverse : \",reverse_number)"
   ]
  },
  {
   "cell_type": "markdown",
   "metadata": {},
   "source": [
    "### 04) WAP to convert decimal number into binary using recursion."
   ]
  },
  {
   "cell_type": "code",
   "execution_count": 15,
   "metadata": {},
   "outputs": [
    {
     "name": "stdout",
     "output_type": "stream",
     "text": [
      "Enter Number : 5\n",
      "Binary :  101\n"
     ]
    }
   ],
   "source": [
    "def decimalToBinary(n):\n",
    "    if n==0:\n",
    "        return 0\n",
    "    else:\n",
    "        return n%2+10*(decimalToBinary(n//2))\n",
    "\n",
    "n = int(input(\"Enter Number : \"))\n",
    "ans = decimalToBinary(n)\n",
    "print(\"Binary : \",ans)"
   ]
  },
  {
   "cell_type": "code",
   "execution_count": null,
   "metadata": {},
   "outputs": [],
   "source": []
  }
 ],
 "metadata": {
  "kernelspec": {
   "display_name": "Python 3 (ipykernel)",
   "language": "python",
   "name": "python3"
  },
  "language_info": {
   "codemirror_mode": {
    "name": "ipython",
    "version": 3
   },
   "file_extension": ".py",
   "mimetype": "text/x-python",
   "name": "python",
   "nbconvert_exporter": "python",
   "pygments_lexer": "ipython3",
   "version": "3.9.13"
  }
 },
 "nbformat": 4,
 "nbformat_minor": 4
}
