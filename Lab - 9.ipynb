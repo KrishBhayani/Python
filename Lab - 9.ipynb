{
 "cells": [
  {
   "cell_type": "markdown",
   "metadata": {},
   "source": [
    "<a href='https://www.darshan.ac.in/'> <img src='https://www.darshan.ac.in/Content/media/DU_Logo.svg' width=\"250\" height=\"300\"/></a>\n",
    "<pre>\n",
    "<center><b><h1>Python Programming - 2101CS405</b></center>\n",
    "<center><b><h1>Lab - 9</b></center>    \n",
    "<pre>"
   ]
  },
  {
   "cell_type": "markdown",
   "metadata": {},
   "source": [
    "# Exception Handling"
   ]
  },
  {
   "cell_type": "markdown",
   "metadata": {},
   "source": [
    "# A"
   ]
  },
  {
   "cell_type": "markdown",
   "metadata": {},
   "source": [
    "### 01) WAP to handle divide by zero exception."
   ]
  },
  {
   "cell_type": "code",
   "execution_count": 6,
   "metadata": {},
   "outputs": [
    {
     "name": "stdout",
     "output_type": "stream",
     "text": [
      "Enter A number : 5\n",
      "Enter B number : 0\n",
      "ZeroDivisionError\n"
     ]
    }
   ],
   "source": [
    "a = int(input(\"Enter A number : \"))\n",
    "b = int(input(\"Enter B number : \"))\n",
    "try:\n",
    "    num=a/b\n",
    "    print(num)\n",
    "except ZeroDivisionError:\n",
    "    print(\"ZeroDivisionError\")"
   ]
  },
  {
   "cell_type": "markdown",
   "metadata": {},
   "source": [
    "### 02)  Write a Python program that inputs a number and generates an error message if it is not a number."
   ]
  },
  {
   "cell_type": "code",
   "execution_count": 18,
   "metadata": {},
   "outputs": [
    {
     "name": "stdout",
     "output_type": "stream",
     "text": [
      "Enter Number : abc\n",
      "ValueError\n"
     ]
    }
   ],
   "source": [
    "try:\n",
    "    a = int(input(\"Enter Number : \"))\n",
    "except ValueError:\n",
    "    print(\"ValueError\")"
   ]
  },
  {
   "cell_type": "markdown",
   "metadata": {},
   "source": [
    "### 03) WAP to handle file not found Exception"
   ]
  },
  {
   "cell_type": "code",
   "execution_count": 11,
   "metadata": {},
   "outputs": [
    {
     "name": "stdout",
     "output_type": "stream",
     "text": [
      "File Not Found\n"
     ]
    }
   ],
   "source": [
    "try:\n",
    "    fp = open(\"abc.txt\")\n",
    "except:\n",
    "    print(\"File Not Found\")"
   ]
  },
  {
   "cell_type": "markdown",
   "metadata": {},
   "source": [
    "### 04) WAP to handle type Exception."
   ]
  },
  {
   "cell_type": "code",
   "execution_count": 17,
   "metadata": {},
   "outputs": [
    {
     "name": "stdout",
     "output_type": "stream",
     "text": [
      "Enter A Value : 2\n",
      "Enter B Value : abc\n",
      "TypeError\n"
     ]
    }
   ],
   "source": [
    "a = int(input(\"Enter A Value : \"))\n",
    "b = input(\"Enter B Value : \")\n",
    "try:\n",
    "    sum = a+b\n",
    "    print(sum)\n",
    "except TypeError:\n",
    "    print(\"TypeError\")"
   ]
  },
  {
   "cell_type": "markdown",
   "metadata": {},
   "source": [
    "### 05) WAP to demonstrate valueError and indexError with example."
   ]
  },
  {
   "cell_type": "code",
   "execution_count": 29,
   "metadata": {},
   "outputs": [
    {
     "name": "stdout",
     "output_type": "stream",
     "text": [
      "Enter a value : 1\n",
      "Enter a value : 2\n",
      "Enter a value : 3\n",
      "Enter a value : 4\n",
      "Enter a value : 5\n",
      "IndexError\n"
     ]
    }
   ],
   "source": [
    "li = []\n",
    "try:\n",
    "    try:\n",
    "        for i in range(5):\n",
    "            int(input(\"Enter a value : \"))\n",
    "            li.append(i)\n",
    "    except ValueError:\n",
    "        print(\"ValueError\")\n",
    "    else:\n",
    "        print(li[len(li)])\n",
    "except IndexError:\n",
    "    print(\"IndexError\")\n"
   ]
  },
  {
   "cell_type": "code",
   "execution_count": 30,
   "metadata": {},
   "outputs": [
    {
     "name": "stdout",
     "output_type": "stream",
     "text": [
      "Enter a value : 1\n",
      "Enter a value : 2\n",
      "Enter a value : abc\n",
      "ValueError\n"
     ]
    }
   ],
   "source": [
    "li = []\n",
    "try:\n",
    "    try:\n",
    "        for i in range(5):\n",
    "            int(input(\"Enter a value : \"))\n",
    "            li.append(i)\n",
    "    except ValueError:\n",
    "        print(\"ValueError\")\n",
    "    else:\n",
    "        print(li[len(li)])\n",
    "except IndexError:\n",
    "    print(\"IndexError\")"
   ]
  },
  {
   "cell_type": "markdown",
   "metadata": {},
   "source": [
    "## 06) WAP to domonstrate else  and finally block."
   ]
  },
  {
   "cell_type": "code",
   "execution_count": 27,
   "metadata": {},
   "outputs": [
    {
     "name": "stdout",
     "output_type": "stream",
     "text": [
      "Enter A number : 6\n",
      "Enter B number : 2\n",
      "3.0\n",
      "Code run successfully\n"
     ]
    }
   ],
   "source": [
    "a = int(input(\"Enter A number : \"))\n",
    "b = int(input(\"Enter B number : \"))\n",
    "try:\n",
    "    num=a/b\n",
    "    print(num)\n",
    "except ZeroDivisionError:\n",
    "    print(\"ZeroDivisionError\")\n",
    "finally:\n",
    "    print(\"Code run successfully\")"
   ]
  },
  {
   "cell_type": "markdown",
   "metadata": {},
   "source": [
    "### 07) Create a short program that prompts the user for a list of grades separated by commas. Split the string into individual grades and use a list comprehension to convert each string to an integer. You should use a try statement to inform the user when the values they entered cannot be converted."
   ]
  },
  {
   "cell_type": "code",
   "execution_count": 35,
   "metadata": {},
   "outputs": [
    {
     "name": "stdout",
     "output_type": "stream",
     "text": [
      "Enter comma separated grades : 2,a,3\n",
      "ValueError\n"
     ]
    }
   ],
   "source": [
    "a = input(\"Enter comma separated grades : \")\n",
    "li = a.split(\",\")\n",
    "try:\n",
    "    li1= list(i for i in li if int(i)>0 or int(i)<=0)\n",
    "    print(li1)\n",
    "except ValueError:\n",
    "    print(\"ValueError\")\n",
    "    "
   ]
  },
  {
   "cell_type": "markdown",
   "metadata": {},
   "source": [
    "# B"
   ]
  },
  {
   "cell_type": "markdown",
   "metadata": {},
   "source": [
    "### 01) WAP to Raising User Generated Exception."
   ]
  },
  {
   "cell_type": "code",
   "execution_count": 57,
   "metadata": {},
   "outputs": [
    {
     "name": "stdout",
     "output_type": "stream",
     "text": [
      "Enter x value : 3\n",
      "Enter y value : 0\n",
      "ZeroDivisionError\n"
     ]
    }
   ],
   "source": [
    "x = int(input(\"Enter x value : \"))\n",
    "y = int(input(\"Enter y value : \"))\n",
    "try:\n",
    "    if(y==0):\n",
    "        raise ZeroDivisionError\n",
    "    else:\n",
    "        print(f\"Answer : {a/b}\")\n",
    "except ZeroDivisionError:\n",
    "    print(\"ZeroDivisionError\")\n",
    "    "
   ]
  },
  {
   "cell_type": "markdown",
   "metadata": {},
   "source": [
    "### 02) WAP to raise your custom Exception."
   ]
  },
  {
   "cell_type": "code",
   "execution_count": 62,
   "metadata": {},
   "outputs": [
    {
     "name": "stdout",
     "output_type": "stream",
     "text": [
      "Enter p value : 2\n",
      "Enter q value : 0\n",
      "An error occurred: Cannot divide by zero\n"
     ]
    }
   ],
   "source": [
    "p = int(input(\"Enter p value : \"))\n",
    "q = int(input(\"Enter q value : \"))\n",
    "\n",
    "class CustomException(Exception):\n",
    "    pass\n",
    "\n",
    "try:\n",
    "    if q == 0:\n",
    "        raise CustomException(\"Cannot divide by zero\")\n",
    "    else:\n",
    "        print(p/q)\n",
    "\n",
    "except CustomException as e:\n",
    "    print(\"An error occurred:\", e)\n"
   ]
  },
  {
   "cell_type": "code",
   "execution_count": null,
   "metadata": {},
   "outputs": [],
   "source": []
  }
 ],
 "metadata": {
  "kernelspec": {
   "display_name": "Python 3 (ipykernel)",
   "language": "python",
   "name": "python3"
  },
  "language_info": {
   "codemirror_mode": {
    "name": "ipython",
    "version": 3
   },
   "file_extension": ".py",
   "mimetype": "text/x-python",
   "name": "python",
   "nbconvert_exporter": "python",
   "pygments_lexer": "ipython3",
   "version": "3.9.13"
  }
 },
 "nbformat": 4,
 "nbformat_minor": 4
}
