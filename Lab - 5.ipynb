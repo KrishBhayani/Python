{
 "cells": [
  {
   "cell_type": "markdown",
   "metadata": {},
   "source": [
    "\n",
    "<a href='https://www.darshan.ac.in/'> <img src='https://www.darshan.ac.in/Content/media/DU_Logo.svg' width=\"250\" height=\"300\"/></a>\n",
    "<pre>\n",
    "<center><b><h1>Python Programming - 2101CS405</b></center>\n",
    "<center><b><h1>Lab - 5</b></center>    \n",
    "<pre>"
   ]
  },
  {
   "cell_type": "markdown",
   "metadata": {},
   "source": [
    "# list"
   ]
  },
  {
   "cell_type": "markdown",
   "metadata": {},
   "source": [
    "### 01) WAP to find sum of all the elements in List."
   ]
  },
  {
   "cell_type": "code",
   "execution_count": 2,
   "metadata": {},
   "outputs": [
    {
     "name": "stdout",
     "output_type": "stream",
     "text": [
      "200\n"
     ]
    }
   ],
   "source": [
    "l1 = [56,65,3,44,32]\n",
    "sum = 0\n",
    "for i in l1:\n",
    "    sum = sum + i\n",
    "print(sum)"
   ]
  },
  {
   "cell_type": "markdown",
   "metadata": {},
   "source": [
    "### 02) WAP to find largest element in a List."
   ]
  },
  {
   "cell_type": "code",
   "execution_count": 3,
   "metadata": {},
   "outputs": [
    {
     "name": "stdout",
     "output_type": "stream",
     "text": [
      "Largest Number is : 89\n"
     ]
    }
   ],
   "source": [
    "l1 = [45,23,89,32,12]\n",
    "\n",
    "print(\"Largest Number is :\",max(l1))"
   ]
  },
  {
   "cell_type": "markdown",
   "metadata": {},
   "source": [
    "### 03) WAP to split the List into two and append the first part to the end."
   ]
  },
  {
   "cell_type": "code",
   "execution_count": 8,
   "metadata": {},
   "outputs": [
    {
     "data": {
      "text/plain": [
       "[4, 5, 6, 1, 2, 3]"
      ]
     },
     "execution_count": 8,
     "metadata": {},
     "output_type": "execute_result"
    }
   ],
   "source": [
    "li = [1,2,3,4,5,6]\n",
    "l1 = li[:int(len(li)/2)]\n",
    "l2 = li[int(len(li)/2):]\n",
    "\n",
    "for i in l1:\n",
    "    l2.append(i)\n",
    "\n",
    "l2"
   ]
  },
  {
   "cell_type": "markdown",
   "metadata": {},
   "source": [
    "### 04) WAP to interchange first and last elements in list entered by a user."
   ]
  },
  {
   "cell_type": "code",
   "execution_count": 10,
   "metadata": {},
   "outputs": [
    {
     "name": "stdout",
     "output_type": "stream",
     "text": [
      "Enter index of list : 5\n",
      "Enter element of list : 1\n",
      "Enter element of list : 2\n",
      "Enter element of list : 3\n",
      "Enter element of list : 4\n",
      "Enter element of list : 5\n"
     ]
    },
    {
     "data": {
      "text/plain": [
       "[5, 2, 3, 4, 1]"
      ]
     },
     "execution_count": 10,
     "metadata": {},
     "output_type": "execute_result"
    }
   ],
   "source": [
    "li = []\n",
    "\n",
    "m = int(input(\"Enter index of list : \"))\n",
    "\n",
    "for i in range(m):\n",
    "    x = int(input(\"Enter element of list : \"))\n",
    "    li.append(x)\n",
    "    \n",
    "size = len(li)\n",
    "\n",
    "l1 = li[0]\n",
    "li[0] = li[size-1] \n",
    "li[size-1] = l1\n",
    "\n",
    "li"
   ]
  },
  {
   "cell_type": "markdown",
   "metadata": {},
   "source": [
    "## 05) WAP to interchange the elements on two positions entered by a user."
   ]
  },
  {
   "cell_type": "code",
   "execution_count": 13,
   "metadata": {},
   "outputs": [
    {
     "name": "stdout",
     "output_type": "stream",
     "text": [
      "Enter index of list : 5\n",
      "Enter element of list : 1\n",
      "Enter element of list : 2\n",
      "Enter element of list : 3\n",
      "Enter element of list : 4\n",
      "Enter element of list : 5\n",
      "Enter 1st position : 1\n",
      "Enter 2nd position : 4\n"
     ]
    },
    {
     "data": {
      "text/plain": [
       "[1, 5, 3, 4, 2]"
      ]
     },
     "execution_count": 13,
     "metadata": {},
     "output_type": "execute_result"
    }
   ],
   "source": [
    "li = []\n",
    "n = int(input(\"Enter index of list : \"))\n",
    "\n",
    "for i in range(n):\n",
    "    x = int(input(\"Enter element of list : \"))\n",
    "    li.append(x)\n",
    "    \n",
    "n1 = int(input(\"Enter 1st position : \"))\n",
    "n2 = int(input(\"Enter 2nd position : \"))\n",
    "\n",
    "temp = li[n1]\n",
    "li[n1] = li[n2]\n",
    "li[n2] = temp\n",
    "\n",
    "li"
   ]
  },
  {
   "cell_type": "markdown",
   "metadata": {},
   "source": [
    "### 06) WAP to reverses the list entered by user."
   ]
  },
  {
   "cell_type": "code",
   "execution_count": 15,
   "metadata": {},
   "outputs": [
    {
     "name": "stdout",
     "output_type": "stream",
     "text": [
      "Enter index of list : 5\n",
      "Enter element of list : 1\n",
      "Enter element of list : 2\n",
      "Enter element of list : 3\n",
      "Enter element of list : 4\n",
      "Enter element of list : 5\n"
     ]
    },
    {
     "data": {
      "text/plain": [
       "[5, 4, 3, 2, 1]"
      ]
     },
     "execution_count": 15,
     "metadata": {},
     "output_type": "execute_result"
    }
   ],
   "source": [
    "li = []\n",
    "n = int(input(\"Enter index of list : \"))\n",
    "\n",
    "for i in range(n):\n",
    "    x = int(input(\"Enter element of list : \"))\n",
    "    li.append(x)\n",
    "\n",
    "li.reverse()\n",
    "\n",
    "li"
   ]
  },
  {
   "cell_type": "markdown",
   "metadata": {},
   "source": [
    "### 07) Python program to remove multiple elements from a list using list comprehension"
   ]
  },
  {
   "cell_type": "code",
   "execution_count": 16,
   "metadata": {},
   "outputs": [
    {
     "data": {
      "text/plain": [
       "[4, 5, 6]"
      ]
     },
     "execution_count": 16,
     "metadata": {},
     "output_type": "execute_result"
    }
   ],
   "source": [
    "li = [1,2,3,4,5,6]\n",
    "\n",
    "n = [i for i in li if i>3]\n",
    "\n",
    "n"
   ]
  },
  {
   "cell_type": "markdown",
   "metadata": {},
   "source": [
    "### 08) Create a list from the specified start to end index of another list."
   ]
  },
  {
   "cell_type": "code",
   "execution_count": 19,
   "metadata": {},
   "outputs": [
    {
     "name": "stdout",
     "output_type": "stream",
     "text": [
      "Enter index of list : 5\n",
      "Enter element of list : 1\n",
      "Enter element of list : 2\n",
      "Enter element of list : 3\n",
      "Enter element of list : 4\n",
      "Enter element of list : 5\n",
      "Enter 1st position : 1\n",
      "Enter 2nd position : 3\n"
     ]
    },
    {
     "data": {
      "text/plain": [
       "[2, 3, 4]"
      ]
     },
     "execution_count": 19,
     "metadata": {},
     "output_type": "execute_result"
    }
   ],
   "source": [
    "li = []\n",
    "n = int(input(\"Enter index of list : \"))\n",
    "\n",
    "for i in range(n):\n",
    "    x = int(input(\"Enter element of list : \"))\n",
    "    li.append(x)\n",
    "    \n",
    "n1 = int(input(\"Enter 1st position : \"))\n",
    "n2 = int(input(\"Enter 2nd position : \"))\n",
    "\n",
    "l1 = li[n1:n2+1]\n",
    "\n",
    "l1"
   ]
  },
  {
   "cell_type": "markdown",
   "metadata": {},
   "source": [
    "### 09) Input comma separated elements, convert into list and print."
   ]
  },
  {
   "cell_type": "code",
   "execution_count": 22,
   "metadata": {},
   "outputs": [
    {
     "name": "stdout",
     "output_type": "stream",
     "text": [
      "Enter comma separated element : Krish,Bhayani,CSE,4A,116\n"
     ]
    },
    {
     "data": {
      "text/plain": [
       "['Krish', 'Bhayani', 'CSE', '4A', '116']"
      ]
     },
     "execution_count": 22,
     "metadata": {},
     "output_type": "execute_result"
    }
   ],
   "source": [
    "n = input(\"Enter comma separated element : \")\n",
    "li = n.split(',')\n",
    "li"
   ]
  },
  {
   "cell_type": "markdown",
   "metadata": {},
   "source": [
    "### 01) WAP to count Even and Odd numbers in a List."
   ]
  },
  {
   "cell_type": "code",
   "execution_count": 26,
   "metadata": {},
   "outputs": [
    {
     "name": "stdout",
     "output_type": "stream",
     "text": [
      "Enter index of list : 5\n",
      "Enter element of list : 1\n",
      "Enter element of list : 2\n",
      "Enter element of list : 3\n",
      "Enter element of list : 4\n",
      "Enter element of list : 5\n",
      "Total Even numbers :  3 \n",
      "Total Odd numbers :  2\n"
     ]
    }
   ],
   "source": [
    "li = []\n",
    "n = int(input(\"Enter index of list : \"))\n",
    "count1 = 0\n",
    "count2 = 0\n",
    "\n",
    "for i in range(n):\n",
    "    x = int(input(\"Enter element of list : \"))\n",
    "    li.append(x)\n",
    "    \n",
    "for i in range(n):\n",
    "    if(i%2==0):\n",
    "        count1+=1\n",
    "    else:\n",
    "        count2+=1\n",
    "print(\"Total Even numbers : \",count1,\"\\nTotal Odd numbers : \",count2)"
   ]
  },
  {
   "cell_type": "markdown",
   "metadata": {},
   "source": [
    "### 02) Python program to find N largest and smallest elements from the list"
   ]
  },
  {
   "cell_type": "code",
   "execution_count": 30,
   "metadata": {},
   "outputs": [
    {
     "name": "stdout",
     "output_type": "stream",
     "text": [
      "Enter index of list : 5\n",
      "Enter element of list : 1\n",
      "Enter element of list : 2\n",
      "Enter element of list : 3\n",
      "Enter element of list : 4\n",
      "Enter element of list : 5\n",
      "Enter N number : 2\n",
      "First 2 largest number : [5, 4] \n",
      "First 2 smallest number : [1, 2]\n"
     ]
    }
   ],
   "source": [
    "li = []\n",
    "n = int(input(\"Enter index of list : \"))\n",
    "\n",
    "for i in range(n):\n",
    "    x = int(input(\"Enter element of list : \"))\n",
    "    li.append(x)\n",
    "\n",
    "m = int(input(\"Enter N number : \"))\n",
    "\n",
    "li.sort()\n",
    "\n",
    "l1 = li[:m:]\n",
    "l2 = li[:m:-1]\n",
    "\n",
    "print(f\"First {m} largest number :\",l2,f\"\\nFirst {m} smallest number :\",l1)\n"
   ]
  },
  {
   "cell_type": "markdown",
   "metadata": {},
   "source": [
    "### 03) WAP to print duplicates from a list of integers"
   ]
  },
  {
   "cell_type": "code",
   "execution_count": 32,
   "metadata": {},
   "outputs": [
    {
     "name": "stdout",
     "output_type": "stream",
     "text": [
      "Enter index of list : 5\n",
      "Enter element of list : 1\n",
      "Enter element of list : 2\n",
      "Enter element of list : 2\n",
      "Enter element of list : 3\n",
      "Enter element of list : 3\n"
     ]
    },
    {
     "data": {
      "text/plain": [
       "[{2, 3}]"
      ]
     },
     "execution_count": 32,
     "metadata": {},
     "output_type": "execute_result"
    }
   ],
   "source": [
    "li = []\n",
    "n = int(input(\"Enter index of list : \"))\n",
    "\n",
    "for i in range(n):\n",
    "    x = int(input(\"Enter element of list : \"))\n",
    "    li.append(x)\n",
    "    \n",
    "n = [set(i for i in li if li.count(i)>1)]\n",
    "\n",
    "n"
   ]
  },
  {
   "cell_type": "code",
   "execution_count": null,
   "metadata": {},
   "outputs": [],
   "source": []
  }
 ],
 "metadata": {
  "kernelspec": {
   "display_name": "Python 3 (ipykernel)",
   "language": "python",
   "name": "python3"
  },
  "language_info": {
   "codemirror_mode": {
    "name": "ipython",
    "version": 3
   },
   "file_extension": ".py",
   "mimetype": "text/x-python",
   "name": "python",
   "nbconvert_exporter": "python",
   "pygments_lexer": "ipython3",
   "version": "3.9.13"
  }
 },
 "nbformat": 4,
 "nbformat_minor": 4
}
