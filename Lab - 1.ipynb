{
 "cells": [
  {
   "cell_type": "markdown",
   "metadata": {},
   "source": [
    "<a href='https://www.darshan.ac.in/'> <img src='https://www.darshan.ac.in/Content/media/DU_Logo.svg' width=\"250\" height=\"300\"/></a>\n",
    "<pre>\n",
    "<center><b><h1>Python Programming - 2101CS405</b></center>\n",
    "<center><b><h1>Lab - 1</b></center>    \n",
    "<pre>"
   ]
  },
  {
   "cell_type": "markdown",
   "metadata": {},
   "source": [
    "### 01) WAP to print “Hello World”"
   ]
  },
  {
   "cell_type": "code",
   "execution_count": 1,
   "metadata": {},
   "outputs": [
    {
     "name": "stdout",
     "output_type": "stream",
     "text": [
      "Hello World\n"
     ]
    }
   ],
   "source": [
    "print(\"Hello World\")"
   ]
  },
  {
   "cell_type": "markdown",
   "metadata": {},
   "source": [
    "### 02) WAP to print your address i) using single print ii) using multiple print"
   ]
  },
  {
   "cell_type": "code",
   "execution_count": 5,
   "metadata": {},
   "outputs": [
    {
     "name": "stdout",
     "output_type": "stream",
     "text": [
      "Angikar Appartment Flat no.103, \n",
      "New Gandhi soc.9 by 10 corner, \n",
      "Nana mova main road, \n",
      "Rajkot\n",
      "\n",
      "Angikar Appartment Flat no.103,\n",
      "New Gandhi soc.9 by 10 corner,\n",
      "Nana mova main road,\n",
      "Rajkot\n"
     ]
    }
   ],
   "source": [
    "print(\"Angikar Appartment Flat no.103, \\nNew Gandhi soc.9 by 10 corner, \\nNana mova main road, \\nRajkot\\n\")\n",
    "\n",
    "print(\"Angikar Appartment Flat no.103,\")\n",
    "print(\"New Gandhi soc.9 by 10 corner,\")\n",
    "print(\"Nana mova main road,\")\n",
    "print(\"Rajkot\")"
   ]
  },
  {
   "cell_type": "markdown",
   "metadata": {},
   "source": [
    "### 03) WAP to print addition of 2 numbers (without input function)"
   ]
  },
  {
   "cell_type": "code",
   "execution_count": 17,
   "metadata": {},
   "outputs": [
    {
     "name": "stdout",
     "output_type": "stream",
     "text": [
      "Addition : 15\n"
     ]
    }
   ],
   "source": [
    "a = 5\n",
    "b = 10\n",
    "\n",
    "c = a+b\n",
    "\n",
    "print(\"Addition :\",c)"
   ]
  },
  {
   "cell_type": "markdown",
   "metadata": {},
   "source": [
    "### 04) WAP to calculate and print average of 2 numbers (without input function)"
   ]
  },
  {
   "cell_type": "code",
   "execution_count": 8,
   "metadata": {},
   "outputs": [
    {
     "name": "stdout",
     "output_type": "stream",
     "text": [
      "Average : 7.5\n"
     ]
    }
   ],
   "source": [
    "a = 10\n",
    "b = 5\n",
    "\n",
    "c = (a+b)/2\n",
    "\n",
    "print(\"Average :\",c)"
   ]
  },
  {
   "cell_type": "markdown",
   "metadata": {},
   "source": [
    "### 05) WAP to add two number entered by user."
   ]
  },
  {
   "cell_type": "code",
   "execution_count": 2,
   "metadata": {},
   "outputs": [
    {
     "name": "stdout",
     "output_type": "stream",
     "text": [
      "Enter First Number :3\n",
      "Enter Second Number :6\n",
      "Addition : 9\n"
     ]
    }
   ],
   "source": [
    "a = int(input(\"Enter First Number :\"))\n",
    "b = int(input(\"Enter Second Number :\"))\n",
    "\n",
    "print(\"Addition :\",a+b)"
   ]
  },
  {
   "cell_type": "markdown",
   "metadata": {},
   "source": [
    "### 06) WAP to calculate simple interest."
   ]
  },
  {
   "cell_type": "code",
   "execution_count": 3,
   "metadata": {},
   "outputs": [
    {
     "name": "stdout",
     "output_type": "stream",
     "text": [
      "Enter Principal Amount : 20\n",
      "Enter Rate Per Annum : 30\n",
      "Enter Time : 10\n",
      "Simple Intrest :  60.0\n"
     ]
    }
   ],
   "source": [
    "p = int(input(\"Enter Principal Amount : \"))\n",
    "r = int(input(\"Enter Rate Per Annum : \"))\n",
    "n = int(input(\"Enter Time : \"))\n",
    "\n",
    "print(\"Simple Intrest : \", (p*r*n)/100)"
   ]
  },
  {
   "cell_type": "markdown",
   "metadata": {},
   "source": [
    "### 07) WAP Calculate Area and Circumfrence of Circle"
   ]
  },
  {
   "cell_type": "code",
   "execution_count": 4,
   "metadata": {},
   "outputs": [
    {
     "name": "stdout",
     "output_type": "stream",
     "text": [
      "Enter Radius : 6\n",
      "Area Of Circle Having Radius 6 Is :  113.03999999999999\n",
      "Circumfrence Of Circle Having Radius 6 Is :  37.68\n"
     ]
    }
   ],
   "source": [
    "r = int(input(\"Enter Radius : \"))\n",
    "print(f\"Area Of Circle Having Radius {r} Is : \", (3.14*r*r))\n",
    "print(f\"Circumfrence Of Circle Having Radius {r} Is : \", (2*3.14*r))"
   ]
  },
  {
   "cell_type": "markdown",
   "metadata": {},
   "source": [
    "### 08) WAP to print Multiplication table of given number without using loops."
   ]
  },
  {
   "cell_type": "code",
   "execution_count": 5,
   "metadata": {},
   "outputs": [
    {
     "name": "stdout",
     "output_type": "stream",
     "text": [
      "Enter A Number : 7\n",
      "7 * 1 = 7\n",
      "7 * 2 = 14\n",
      "7 * 3 = 21\n",
      "7 * 4 = 28\n",
      "7 * 5 = 35\n",
      "7 * 6 = 42\n",
      "7 * 7 = 49\n",
      "7 * 8 = 56\n",
      "7 * 9 = 63\n",
      "7 * 10 = 70\n"
     ]
    }
   ],
   "source": [
    "n = int(input(\"Enter A Number : \"))\n",
    "\n",
    "print(n, \"*\", 1, \"=\", n * 1)\n",
    "print(n, \"*\", 2, \"=\", n * 2)\n",
    "print(n, \"*\", 3, \"=\", n * 3)\n",
    "print(n, \"*\", 4, \"=\", n * 4)\n",
    "print(n, \"*\", 5, \"=\", n * 5)\n",
    "print(n, \"*\", 6, \"=\", n * 6)\n",
    "print(n, \"*\", 7, \"=\", n * 7)\n",
    "print(n, \"*\", 8, \"=\", n * 8)\n",
    "print(n, \"*\", 9, \"=\", n * 9)\n",
    "print(n, \"*\", 10, \"=\", n * 10)\n"
   ]
  },
  {
   "cell_type": "markdown",
   "metadata": {},
   "source": [
    "### 09) WAP to calculate Area of Triangle (hint: a = h * b * 0.5)"
   ]
  },
  {
   "cell_type": "code",
   "execution_count": 7,
   "metadata": {},
   "outputs": [
    {
     "name": "stdout",
     "output_type": "stream",
     "text": [
      "Enter Height : 5\n",
      "Enter Breath : 3\n",
      "Area Of Tringle Is :  7.5\n"
     ]
    }
   ],
   "source": [
    "h = int(input(\"Enter Height : \"))\n",
    "b = int(input(\"Enter Breath : \"))\n",
    "\n",
    "print(\"Area Of Tringle Is : \", (h*b*0.5))\n"
   ]
  },
  {
   "cell_type": "markdown",
   "metadata": {},
   "source": [
    "### 10) WAP to convert degree to Fahrenheit and vice versa."
   ]
  },
  {
   "cell_type": "code",
   "execution_count": 9,
   "metadata": {},
   "outputs": [
    {
     "name": "stdout",
     "output_type": "stream",
     "text": [
      "Enter Degree : 40\n",
      "40°C =  104.0 F\n",
      "Enter Fahrenhit : 104\n",
      "104°F =  40.0 C\n"
     ]
    }
   ],
   "source": [
    "d = int(input(\"Enter Degree : \"))\n",
    "f = (d*9/5)+32\n",
    "print(f\"{d}°C = \", f, \"F\")\n",
    "\n",
    "f = int(input(\"Enter Fahrenhit : \"))\n",
    "c = (f-32)*5/9\n",
    "print(f\"{f}°F = \", c, \"C\")\n"
   ]
  },
  {
   "cell_type": "markdown",
   "metadata": {},
   "source": [
    "### 11) WAP to calculate total marks and Percentage."
   ]
  },
  {
   "cell_type": "code",
   "execution_count": 11,
   "metadata": {},
   "outputs": [
    {
     "name": "stdout",
     "output_type": "stream",
     "text": [
      "Enter Physics's Mark : 73\n",
      "Enter Chemistry's Mark : 92\n",
      "Enter Maths's Mark : 85\n",
      "Enter English's Mark : 95\n",
      "Total Of 73 , 92 , 85 and 95 Is  345  And Percentage Is :  86.25\n"
     ]
    }
   ],
   "source": [
    "m1 = int(input(\"Enter Physics's Mark : \"))\n",
    "m2 = int(input(\"Enter Chemistry's Mark : \"))\n",
    "m3 = int(input(\"Enter Maths's Mark : \"))\n",
    "m4 = int(input(\"Enter English's Mark : \"))\n",
    "\n",
    "print(f\"Total Of {m1} , {m2} , {m3} and {m4} Is \",(m1+m2+m3+m4), \n",
    "      \" And Percentage Is : \", (m1+m2+m3+m4)/4)"
   ]
  },
  {
   "cell_type": "markdown",
   "metadata": {},
   "source": [
    "### 12) Compute distance between two points taking input from the user (Pythagorean Theorem)."
   ]
  },
  {
   "cell_type": "code",
   "execution_count": 12,
   "metadata": {},
   "outputs": [
    {
     "name": "stdout",
     "output_type": "stream",
     "text": [
      "Enter X1 Coordinate : 4\n",
      "Enter X2 Coordinate : 2\n",
      "Enter y1 Coordinate : 6\n",
      "Enter y2 Coordinate : 5\n",
      "Distance Between 4,2 And 6,5 Is 4.0\n"
     ]
    }
   ],
   "source": [
    "x1 = int(input(\"Enter X1 Coordinate : \"))\n",
    "x2 = int(input(\"Enter X2 Coordinate : \"))\n",
    "y1 = int(input(\"Enter y1 Coordinate : \"))\n",
    "y2 = int(input(\"Enter y2 Coordinate : \"))\n",
    "\n",
    "distance = (((x1-x2)**2)+((y1-y1)**2)**0.5)\n",
    "\n",
    "print(f\"Distance Between {x1},{x2} And {y1},{y2} Is\",distance)\n"
   ]
  },
  {
   "cell_type": "markdown",
   "metadata": {},
   "source": [
    "### 13) WAP to convert seconds into hours, minutes & seconds and print in HH:MM:SS\n",
    "[e.g. 10000 seconds mean 2:46:40 (2 Hours, 46 Minutes, 40Seconds)]"
   ]
  },
  {
   "cell_type": "code",
   "execution_count": 15,
   "metadata": {},
   "outputs": [
    {
     "name": "stdout",
     "output_type": "stream",
     "text": [
      "Enter Seconds : 10000\n",
      "2:46:40\n"
     ]
    }
   ],
   "source": [
    "s = int(input(\"Enter Seconds : \"))\n",
    "h = s//3600\n",
    "m = (s % 3600)//60\n",
    "s = (s % 3600) % 60\n",
    "\n",
    "print(f\"{h}:{m}:{s}\")"
   ]
  },
  {
   "cell_type": "markdown",
   "metadata": {},
   "source": [
    "### 14) WAP to enter distance into kilometer and convert it into meter, feet,inches, and centimeter"
   ]
  },
  {
   "cell_type": "code",
   "execution_count": 16,
   "metadata": {},
   "outputs": [
    {
     "name": "stdout",
     "output_type": "stream",
     "text": [
      "Enter Distance In Kilometer : 10\n",
      "10 Kilometer Is 10000 Meter 32810 Foot 393700 Inch 1000000 Centimeters\n"
     ]
    }
   ],
   "source": [
    "k = int(input(\"Enter Distance In Kilometer : \"))\n",
    "m = k*1000\n",
    "f = k*3281\n",
    "i = k*39370\n",
    "c = k*100000\n",
    "\n",
    "print(f\"{k} Kilometer Is {m} Meter {f} Foot {i} Inch {c} Centimeters\")\n"
   ]
  },
  {
   "cell_type": "code",
   "execution_count": null,
   "metadata": {},
   "outputs": [],
   "source": []
  }
 ],
 "metadata": {
  "kernelspec": {
   "display_name": "Python 3 (ipykernel)",
   "language": "python",
   "name": "python3"
  },
  "language_info": {
   "codemirror_mode": {
    "name": "ipython",
    "version": 3
   },
   "file_extension": ".py",
   "mimetype": "text/x-python",
   "name": "python",
   "nbconvert_exporter": "python",
   "pygments_lexer": "ipython3",
   "version": "3.9.13"
  }
 },
 "nbformat": 4,
 "nbformat_minor": 4
}
